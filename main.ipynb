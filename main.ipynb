{
 "cells": [
  {
   "cell_type": "code",
   "execution_count": 8,
   "metadata": {},
   "outputs": [],
   "source": [
    "# %load  main.py\n",
    "\n",
    "import os\n",
    "from argparse import ArgumentDefaultsHelpFormatter, ArgumentParser\n",
    "from utils import *\n",
    "from evaluation import PPIPrediction\n",
    "\n",
    "def main(args):\n",
    "    G1, G_train, testing_pos_edges, train_graph_filename,G0,training_pos_edges = split_train_test_graph(args.input1,args.input2, args.seed)\n",
    "    embedding_training(args, train_graph_filename)\n",
    "    embedding_look_up = load_embedding(args.output,args.species)\n",
    "    #start predicting...\n",
    "    PPIPrediction(embedding_look_up, G1, G_train, G0 ,testing_pos_edges, args.seed,training_pos_edges)\n",
    "    os.remove(train_graph_filename)\n"
   ]
  },
  {
   "cell_type": "code",
   "execution_count": 9,
   "metadata": {},
   "outputs": [
    {
     "name": "stdout",
     "output_type": "stream",
     "text": [
      "Original Graph: nodes: 3517 edges: 5000\n",
      "delt Graph: nodes: 3517 edges: 5000\n",
      "Original neg Graph: nodes: 708 edges: 393\n",
      "num\n",
      "4607\n",
      "35062\n",
      "dealt neg Graph: nodes: 2801 edges: 5000\n",
      "Loading training graph for learning embedding...\n",
      "Graph Loaded...\n",
      "Preprocess transition probs...\n",
      "Begin random walk...\n",
      "Walk finished...\n",
      "Learning representation...\n",
      "Saving embeddings...\n",
      "Start predicting...\n",
      "fold：0 accuracy：0.983 precision：0.9683168297657092\n",
      "Start predicting...\n",
      "fold：1 accuracy：0.986 precision：0.9744058483100442\n",
      "Start predicting...\n",
      "fold：2 accuracy：0.977 precision：0.9574468066587103\n",
      "Start predicting...\n",
      "fold：3 accuracy：0.973 precision：0.946640314334703\n",
      "Start predicting...\n",
      "fold：4 accuracy：0.972 precision：0.9514925355382602\n",
      "Start predicting...\n",
      "fold：5 accuracy：0.985 precision：0.9768786108345306\n",
      "Start predicting...\n",
      "fold：6 accuracy：0.982 precision：0.9713740439477595\n",
      "Start predicting...\n",
      "fold：7 accuracy：0.979 precision：0.9602385666794462\n",
      "Start predicting...\n",
      "fold：8 accuracy：0.978 precision：0.9570312481307983\n",
      "Start predicting...\n",
      "fold：9 accuracy：0.98 precision：0.9628906231193542\n"
     ]
    }
   ],
   "source": [
    "if __name__ == \"__main__\":\n",
    "    parser = ArgumentParser(formatter_class=ArgumentDefaultsHelpFormatter,\n",
    "                            conflict_handler='resolve')\n",
    "    parser.add_argument('--input1', default=\"data/mouse/mouse-pos.edgelist\",\n",
    "                        help='Input graph file（positive）. Only accepted edgelist format.')\n",
    "    parser.add_argument('--input2', default=\"data/mouse/mouse-neg.edgelist\",\n",
    "                        help='Input graph file（negative）. Only accepted edgelist format.')\n",
    "    parser.add_argument('--output',default=\"mouse\",\n",
    "                        help='Output graph embedding file')\n",
    "    parser.add_argument('--species',default=\"mouse\",\n",
    "                        help='species name')\n",
    "    parser.add_argument('--seed',default=0, type=int,  help='seed value')\n",
    "    args = parser.parse_known_args()[0]\n",
    "    main(args)"
   ]
  },
  {
   "cell_type": "code",
   "execution_count": null,
   "metadata": {},
   "outputs": [],
   "source": []
  }
 ],
 "metadata": {
  "kernelspec": {
   "display_name": "protein",
   "language": "python",
   "name": "protein"
  },
  "language_info": {
   "codemirror_mode": {
    "name": "ipython",
    "version": 3
   },
   "file_extension": ".py",
   "mimetype": "text/x-python",
   "name": "python",
   "nbconvert_exporter": "python",
   "pygments_lexer": "ipython3",
   "version": "3.8.8"
  }
 },
 "nbformat": 4,
 "nbformat_minor": 4
}
