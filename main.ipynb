{
 "cells": [
  {
   "cell_type": "code",
   "execution_count": null,
   "metadata": {},
   "outputs": [],
   "source": [
    "# %load  main.py\n",
    "\n",
    "import os\n",
    "from argparse import ArgumentDefaultsHelpFormatter, ArgumentParser\n",
    "from utils import *\n",
    "from evaluation import PPIPrediction\n",
    "\n",
    "def parse_args():\n",
    "    parser = ArgumentParser(formatter_class=ArgumentDefaultsHelpFormatter,\n",
    "                            conflict_handler='resolve')\n",
    "    parser.add_argument('--input1', required=True,\n",
    "                        help='read positive edges')\n",
    "    parser.add_argument('--input2', required=True,\n",
    "                        help='read negative edges')\n",
    "    parser.add_argument('--output',\n",
    "                        help='embedding file', required=True)\n",
    "    parser.add_argument('--species',\n",
    "                        help='species name', required=True)\n",
    "    parser.add_argument('--number-walks', default=32, type=int,\n",
    "                        help='Number of random walks to start at each node. ')\n",
    "    parser.add_argument('--walk-length', default=64, type=int,\n",
    "                        help='Length of the random walk started at each node. ')\n",
    "    parser.add_argument('--workers', default=8, type=int,\n",
    "                        help='Number of parallel processes. ')\n",
    "    parser.add_argument('--window-size', default=10, type=int,\n",
    "                        help='Window size of word2vec model. ')\n",
    "    parser.add_argument('--seed',default=0, type=int,  help='seed value')\n",
    "    args = parser.parse_args()\n",
    "\n",
    "    return args\n",
    "\n",
    "\n",
    "\n",
    "\n",
    "\n",
    "\n"
   ]
  },
  {
   "cell_type": "code",
   "execution_count": 2,
   "metadata": {},
   "outputs": [],
   "source": [
    "def main(args):\n",
    "        G1, G_train, testing_pos_edges, train_graph_filename,G0,training_pos_edges = split_train_test_graph(args.input1,args.input2, args.seed)\n",
    "        embedding_training(args, train_graph_filename)\n",
    "        embedding_look_up = load_embedding(args.output,args.species)\n",
    "        PPIPrediction(embedding_look_up, G1, G_train, G0 ,testing_pos_edges, args.seed,training_pos_edges)\n",
    "        os.remove(train_graph_filename)"
   ]
  },
  {
   "cell_type": "code",
   "execution_count": null,
   "metadata": {},
   "outputs": [],
   "source": [
    "def more_main():\n",
    "    args = parse_args()\n",
    "    seed = args.seed\n",
    "    random.seed(seed)\n",
    "    np.random.seed(seed)\n",
    "    main(parse_args())\n",
    "\n",
    "\n",
    "if __name__ == \"__main__\":\n",
    "    more_main()"
   ]
  }
 ],
 "metadata": {
  "kernelspec": {
   "display_name": "Python 3",
   "language": "python",
   "name": "python3"
  },
  "language_info": {
   "codemirror_mode": {
    "name": "ipython",
    "version": 3
   },
   "file_extension": ".py",
   "mimetype": "text/x-python",
   "name": "python",
   "nbconvert_exporter": "python",
   "pygments_lexer": "ipython3",
   "version": "3.8.5"
  }
 },
 "nbformat": 4,
 "nbformat_minor": 4
}
