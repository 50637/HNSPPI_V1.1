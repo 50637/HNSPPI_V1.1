{
 "cells": [
  {
   "cell_type": "code",
   "execution_count": 15,
   "metadata": {},
   "outputs": [],
   "source": [
    "import csv\n",
    "import numpy as np\n",
    "import multiprocessing\n",
    "import os\n",
    "from gensim.models.word2vec import LineSentence\n",
    "from gensim.models.keyedvectors import KeyedVectors\n",
    "from gensim.models import Word2Vec\n",
    "#seperate sequence\n",
    "def getKmers(sequence, size):\n",
    "    return [sequence[x:x+size] for x in range(len(sequence) - size + 1)]\n"
   ]
  },
  {
   "cell_type": "code",
   "execution_count": 16,
   "metadata": {},
   "outputs": [
    {
     "name": "stdout",
     "output_type": "stream",
     "text": [
      "start training the model\n",
      "model funished\n"
     ]
    }
   ],
   "source": [
    "f=open('mouse.txt','w')\n",
    "#the sequence file of dataset\n",
    "with open('data/mouse/mouse.csv','r') as csvfile:#\n",
    "    reader = csv.reader(csvfile)\n",
    "    for row in reader:\n",
    "            #print(row)\n",
    "            s = getKmers(str(row[1]), 3)\n",
    "            try:\n",
    "                del(s[0])\n",
    "                del(s[0])\n",
    "                del(s[-1])\n",
    "                del(s[-1])\n",
    "                f.write(str(s))\n",
    "                f.write('\\r\\n')\n",
    "            except:\n",
    "                continue\n",
    "\n",
    "f.close()\n",
    "\n",
    "inp ='mouse.txt'\n",
    "print('start training the model')\n",
    "sentences = LineSentence(inp)#一行是一句，并已经用空格分开\n",
    "model = Word2Vec(sentences, vector_size=100, window=5 , min_count=1 , sg=1 , workers=multiprocessing.cpu_count()-1 )\n",
    "model.wv.save_word2vec_format('mouse.txt', binary=False)\n",
    "print('model funished')\n",
    "os.remove('mouse.txt')"
   ]
  },
  {
   "cell_type": "code",
   "execution_count": null,
   "metadata": {},
   "outputs": [],
   "source": []
  }
 ],
 "metadata": {
  "kernelspec": {
   "display_name": "protein",
   "language": "python",
   "name": "protein"
  },
  "language_info": {
   "codemirror_mode": {
    "name": "ipython",
    "version": 3
   },
   "file_extension": ".py",
   "mimetype": "text/x-python",
   "name": "python",
   "nbconvert_exporter": "python",
   "pygments_lexer": "ipython3",
   "version": "3.8.8"
  }
 },
 "nbformat": 4,
 "nbformat_minor": 4
}
